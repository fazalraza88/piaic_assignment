{
 "cells": [
  {
   "cell_type": "code",
   "execution_count": 1,
   "metadata": {},
   "outputs": [
    {
     "name": "stdout",
     "output_type": "stream",
     "text": [
      "Enter Your html File Name : example_html_file.html\n",
      "-------Tag Name In Given Html File------\n",
      "html\n",
      "head\n",
      "title\n",
      "style\n",
      "body\n",
      "h1\n",
      "p\n",
      "a\n",
      "Total Tags In example_html_file.html  are 10\n"
     ]
    }
   ],
   "source": [
    "from html.parser import HTMLParser\n",
    "import os\n",
    "import sys\n",
    "\n",
    "dictionarTags ={}\n",
    "dictionaryCloseTags ={}\n",
    "class MyHTMLParser(HTMLParser):\n",
    "    def handle_starttag(self, tag, attrs):\n",
    "        \n",
    "        if tag not in dictionarTags:\n",
    "            dictionarTags[tag] = 1\n",
    "        else:\n",
    "            dictionarTags[tag]  +=1    \n",
    "    def display (self):  \n",
    "        print(\"-------Tag Name In Given Html File------\")\n",
    "        for i in dictionarTags:\n",
    "            print(i)\n",
    "        \n",
    "    def handle_endtag(self, tag):\n",
    "        if tag not in dictionaryCloseTags:\n",
    "            dictionaryCloseTags[tag] = 1\n",
    "        else:\n",
    "            dictionaryCloseTags[tag]  +=1 \n",
    "\n",
    "\n",
    "get_user_data = input(\"Enter Your html File Name : \")   \n",
    "try:\n",
    "    with open(get_user_data, \"r\") as f:\n",
    "        parser = MyHTMLParser()\n",
    "        file_content = f.read()\n",
    "        paired_tags = file_content.count('</')\n",
    "        unpaired_tags = file_content.count('/>')\n",
    "        parser.feed(file_content)\n",
    "        parser.display()\n",
    "        total_tags = paired_tags + unpaired_tags\n",
    "        print(\"Total Tags In\",get_user_data ,\" are\",total_tags)\n",
    "except FileNotFoundError:\n",
    "        msg = \"Sorry, the file \" + get_user_data + \" does not exist.\"\n",
    "        print(msg)"
   ]
  },
  {
   "cell_type": "code",
   "execution_count": 1,
   "metadata": {},
   "outputs": [
    {
     "name": "stdout",
     "output_type": "stream",
     "text": [
      "Enter Your File Name : filename.txt \n",
      "sample_text_file.txt4\n",
      "\n",
      " Number of words 38128 \n",
      " Number of spaces  54320 \n",
      " Number of lines 4821  \n",
      " Number Of Non space characters 34\n",
      " Number of paragraph 1\n"
     ]
    }
   ],
   "source": [
    "import os\n",
    "import sys\n",
    "\n",
    "def paraCounter(infile):\n",
    "    f = open(infile, encoding=\"utf8\")\n",
    "    linecount = 0\n",
    "    paragraphcount = 0\n",
    "    empty = True\n",
    "    for i in f:\n",
    "        if '\\n' in i:\n",
    "            linecount += 1\n",
    "            if len(i) < 2:\n",
    "                empty = True\n",
    "            elif len(i) > 2 and empty is True:\n",
    "                paragraphcount = paragraphcount + 1\n",
    "                empty = False\n",
    "    f.close()\n",
    "    print(\" Number of paragraph {}\".format(paragraphcount))\n",
    "\n",
    "\n",
    "def fileParser(path):\n",
    "\n",
    "    open_file = open(path,encoding=\"utf8\")\n",
    "    total_words= total_spaces = total_number_lines = total_tabs = total_characters = total_tabs = 0\n",
    "    total_line_in_file = open_file.read()\n",
    "    total_characters = len(total_line_in_file)\n",
    "    total_words = len(total_line_in_file.split())\n",
    "    total_number_lines = total_line_in_file.count('\\n')\n",
    "    total_tabs = total_line_in_file.count('\\t')\n",
    "    total_spaces = total_line_in_file.count(' ')\n",
    "    total_special_cahracter = total_characters - total_spaces - total_tabs\n",
    "    return total_words , total_spaces,total_number_lines ,total_tabs,total_special_cahracter\n",
    "    \n",
    "\n",
    "\n",
    "get_user_input = input(\"Enter Your File Name : filename.txt \\n\")\n",
    "\n",
    "try:\n",
    "    with open(get_user_input,encoding=\"utf8\") as f: \n",
    "        total_words, total_spaces, total_number_lines,total_tabs,total_special_cahracter = fileParser(get_user_input)\n",
    "        print (\"\\n Number of words {} \\n Number of spaces  {} \\n Number of lines {}  \\n Number Of Non space characters {}\".format (total_words , total_spaces,total_number_lines ,total_tabs,total_special_cahracter))\n",
    "        paraCounter(get_user_input)    \n",
    "except FileNotFoundError:\n",
    "        msg = \"Sorry, the file \" + get_user_input + \" does not exist.\"\n",
    "        print(msg)"
   ]
  },
  {
   "cell_type": "code",
   "execution_count": null,
   "metadata": {},
   "outputs": [],
   "source": []
  }
 ],
 "metadata": {
  "kernelspec": {
   "display_name": "Python 3",
   "language": "python",
   "name": "python3"
  },
  "language_info": {
   "codemirror_mode": {
    "name": "ipython",
    "version": 3
   },
   "file_extension": ".py",
   "mimetype": "text/x-python",
   "name": "python",
   "nbconvert_exporter": "python",
   "pygments_lexer": "ipython3",
   "version": "3.7.3"
  }
 },
 "nbformat": 4,
 "nbformat_minor": 2
}
