{
 "cells": [
  {
   "cell_type": "markdown",
   "metadata": {},
   "source": []
  },
  {
   "cell_type": "code",
   "execution_count": 1,
   "metadata": {},
   "outputs": [
    {
     "name": "stdout",
     "output_type": "stream",
     "text": [
      "Enter Your Namefazal\n",
      "Enter Student Roll Numner34343\n",
      "English Marks44\n",
      "Maths Marks55\n",
      "Urdu Marks99\n",
      "Islamiate Marks77\n",
      "Chemistry Marks99\n",
      "Physics Marks66\n",
      "Total Marks600\n"
     ]
    }
   ],
   "source": [
    "import csv\n",
    "studentName = input(\"Enter Your Name\")\n",
    "rollNo = input(\"Enter Student Roll Numner\")\n",
    "english = float(input(\"English Marks\"))\n",
    "math = float(input(\"Maths Marks\"))\n",
    "urdu = float(input(\"Urdu Marks\"))\n",
    "islamiate = float(input(\"Islamiate Marks\"))\n",
    "chemistry = float(input(\"Chemistry Marks\"))\n",
    "physics = float(input(\"Physics Marks\"))\n",
    "totalmarks = float(input(\"Total Marks\"))\n",
    "obtainMarks = english + math + urdu + islamiate + chemistry + physics\n",
    "Grade = ''\n",
    "Percentage = float(obtainMarks / totalmarks * 100)\n",
    "\n",
    "if(Percentage>=80):\n",
    "    Grade='A+'\n",
    "elif(Percentage>=70 and Percentage<80):\n",
    "    Grade='A'\n",
    "elif(Percentage>=60 and Percentage<70):\n",
    "    Grade='B'\n",
    "elif(Percentage>=50 and Percentage<60):\n",
    "    Grade='D'\n",
    "elif(Percentage>=40 and Percentage<50):\n",
    "    Grade='E'\n",
    "else:\n",
    "    Grade='F'\n",
    "\n",
    "\n",
    "studentData = [studentName,rollNo,english,math,urdu,islamiate,chemistry,physics,obtainMarks,totalmarks,float(Percentage),Grade]\n",
    "\n",
    "with open(\"StudentMarkSheet.csv\",\"w\" ,newline=\"\") as A:\n",
    "\n",
    "        file_handler = csv.writer(A, delimiter=',')    \n",
    "        \n",
    "        file_handler.writerow([\"Name\",\"RollNumber\",\"English\",\"Math\",\"Urdu\",\"Islamiate\",\"Chemistry\",\"Physics\",\"Obtain Marks\",\"Total Marks\",\"Percentage\",\"Grade\"])\n",
    "        file_handler.writerow(studentData)\n",
    "\n"
   ]
  },
  {
   "cell_type": "markdown",
   "metadata": {},
   "source": [
    "# "
   ]
  }
 ],
 "metadata": {
  "kernelspec": {
   "display_name": "Python 3",
   "language": "python",
   "name": "python3"
  },
  "language_info": {
   "codemirror_mode": {
    "name": "ipython",
    "version": 3
   },
   "file_extension": ".py",
   "mimetype": "text/x-python",
   "name": "python",
   "nbconvert_exporter": "python",
   "pygments_lexer": "ipython3",
   "version": "3.7.3"
  }
 },
 "nbformat": 4,
 "nbformat_minor": 2
}
